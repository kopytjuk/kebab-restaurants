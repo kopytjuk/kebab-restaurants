{
 "cells": [
  {
   "cell_type": "markdown",
   "metadata": {},
   "source": [
    "# Visualize places\n",
    "\n",
    "This notebook is used to visualize collected data."
   ]
  },
  {
   "cell_type": "code",
   "execution_count": 4,
   "metadata": {},
   "outputs": [
    {
     "data": {
      "text/plain": [
       "'3.7.0'"
      ]
     },
     "execution_count": 4,
     "metadata": {},
     "output_type": "execute_result"
    }
   ],
   "source": [
    "import plotly\n",
    "plotly.__version__"
   ]
  },
  {
   "cell_type": "code",
   "execution_count": 5,
   "metadata": {},
   "outputs": [],
   "source": [
    "import os\n",
    "import dotenv"
   ]
  },
  {
   "cell_type": "code",
   "execution_count": 12,
   "metadata": {},
   "outputs": [],
   "source": [
    "import pandas as pd\n",
    "import numpy as np"
   ]
  },
  {
   "cell_type": "code",
   "execution_count": 6,
   "metadata": {},
   "outputs": [],
   "source": [
    "import plotly.graph_objs as go\n",
    "from plotly.offline import download_plotlyjs, init_notebook_mode, plot, iplot"
   ]
  },
  {
   "cell_type": "code",
   "execution_count": 7,
   "metadata": {},
   "outputs": [
    {
     "data": {
      "text/html": [
       "<script type=\"text/javascript\">window.PlotlyConfig = {MathJaxConfig: 'local'};</script><script type=\"text/javascript\">if (window.MathJax) {MathJax.Hub.Config({SVG: {font: \"STIX-Web\"}});}</script><script>requirejs.config({paths: { 'plotly': ['https://cdn.plot.ly/plotly-latest.min']},});if(!window._Plotly) {require(['plotly'],function(plotly) {window._Plotly=plotly;});}</script>"
      ],
      "text/vnd.plotly.v1+html": [
       "<script type=\"text/javascript\">window.PlotlyConfig = {MathJaxConfig: 'local'};</script><script type=\"text/javascript\">if (window.MathJax) {MathJax.Hub.Config({SVG: {font: \"STIX-Web\"}});}</script><script>requirejs.config({paths: { 'plotly': ['https://cdn.plot.ly/plotly-latest.min']},});if(!window._Plotly) {require(['plotly'],function(plotly) {window._Plotly=plotly;});}</script>"
      ]
     },
     "metadata": {},
     "output_type": "display_data"
    }
   ],
   "source": [
    "init_notebook_mode(connected=True)"
   ]
  },
  {
   "cell_type": "code",
   "execution_count": 8,
   "metadata": {},
   "outputs": [
    {
     "data": {
      "text/plain": [
       "True"
      ]
     },
     "execution_count": 8,
     "metadata": {},
     "output_type": "execute_result"
    }
   ],
   "source": [
    "dotenv.load_dotenv()"
   ]
  },
  {
   "cell_type": "code",
   "execution_count": 9,
   "metadata": {},
   "outputs": [],
   "source": [
    "mapbox_access_token = os.environ.get(\"MAPBOX_ACCESS_TOKEN\")"
   ]
  },
  {
   "cell_type": "code",
   "execution_count": 66,
   "metadata": {},
   "outputs": [],
   "source": [
    "def plot_locations(lat_list, lon_list, name_list, city, food_type):\n",
    "    lat_list = np.asarray(lat_list)\n",
    "    lon_list = np.asarray(lon_list)\n",
    "    data = [\n",
    "        go.Scattermapbox(\n",
    "            lat=lat_list,\n",
    "            lon=lon_list,\n",
    "            mode='markers',\n",
    "            marker=go.scattermapbox.Marker(\n",
    "                size=10\n",
    "            ),\n",
    "            text=name_list,\n",
    "        )\n",
    "    ]\n",
    "\n",
    "    layout = go.Layout(title=f\"{food_type} restaurants in {city}\",\n",
    "                       font=dict(size=20, family='Calibri'),\n",
    "        autosize=True,\n",
    "        hovermode='closest',width=800, height=800,\n",
    "        mapbox=go.layout.Mapbox(\n",
    "            accesstoken=mapbox_access_token,\n",
    "            #style='light',\n",
    "            bearing=0,\n",
    "            center=go.layout.mapbox.Center(\n",
    "                lat=lat_list.mean(),\n",
    "                lon=lon_list.mean()\n",
    "            ),\n",
    "            pitch=0,\n",
    "            zoom=12,\n",
    "        ),\n",
    "    )\n",
    "\n",
    "    fig = go.Figure(data=data, layout=layout)\n",
    "    iplot(fig, filename=f\"{food_type} in {city}\")"
   ]
  },
  {
   "cell_type": "code",
   "execution_count": 67,
   "metadata": {},
   "outputs": [],
   "source": [
    "hn_doener_path = \"data\\döner_heilbronn.csv\"\n",
    "df = pd.read_csv(hn_doener_path)\n",
    "lat_list = df[\"geometry.location.lat\"]\n",
    "lon_list = df[\"geometry.location.lng\"]\n",
    "name_list = df[\"name\"]\n",
    "city = \"Heilbronn\"\n",
    "food_type=\"Kebab\""
   ]
  },
  {
   "cell_type": "code",
   "execution_count": 69,
   "metadata": {},
   "outputs": [
    {
     "data": {
      "application/vnd.plotly.v1+json": {
       "config": {
        "linkText": "Export to plot.ly",
        "plotlyServerURL": "https://plot.ly",
        "showLink": false
       },
       "data": [
        {
         "lat": [
          49.144707000000004,
          49.1421161,
          49.138411700000006,
          49.172795799999996,
          49.116282,
          49.120323000000006,
          49.1449783,
          49.1446598,
          49.1421362,
          49.11939049999999,
          49.1416247,
          49.1338062,
          49.14254570000001,
          49.140640000000005,
          49.146103000000004,
          49.168850799999994,
          49.1424564,
          49.1385503,
          49.15387639999999,
          49.150796899999996,
          49.168775399999994,
          49.1436489,
          49.139952799999996,
          49.1394461,
          49.1848451,
          49.15012,
          49.139354600000004,
          49.144667999999996,
          49.1409484,
          49.170634,
          49.143559,
          49.13039149999999,
          49.139883600000005,
          49.18943,
          49.1390568,
          49.18663,
          49.1365444,
          49.18943,
          49.1525342
         ],
         "lon": [
          9.2210705,
          9.1916292,
          9.2204872,
          9.261749900000002,
          9.1678246,
          9.2075691,
          9.2206826,
          9.220752200000002,
          9.2085547,
          9.1907217,
          9.2171228,
          9.2183907,
          9.2092853,
          9.220410000000001,
          9.1851926,
          9.2013536,
          9.2168159,
          9.190913900000002,
          9.2175588,
          9.2824052,
          9.202868,
          9.229751400000001,
          9.220401400000002,
          9.219764,
          9.2249351,
          9.22138,
          9.2202831,
          9.2226823,
          9.2089664,
          9.2227784,
          9.222372,
          9.191092900000001,
          9.2242367,
          9.22347,
          9.2260017,
          9.22417,
          9.1919011,
          9.22347,
          9.2142505
         ],
         "marker": {
          "size": 10
         },
         "mode": "markers",
         "text": [
          "Döner Eck",
          "Mc Döner",
          "Otantik Döner- und Pizzahaus",
          "Mardin Imbiss - Döner, Pizza",
          "Döner 20",
          "Efendi Kebap",
          "Pizza Kebaphaus",
          "Divan 2",
          "Grill Station Pizza Kebaphaus",
          "Sontheimer Eck",
          "ALATURKA Grillrestaurant",
          "Öz Urfa Grillhaus",
          "Metropol Schnellrestaurant",
          "Stern Kebap, B. Akgül",
          "Pizza Kebab Haus",
          "Boz's Kebap Pizza Haus Neckargartach",
          "Istikbal Pizza Kebabhaus",
          "Pizza Kebap Haus Böckingen",
          "Ali Haydar Kebaphaus",
          "Karadeniz 55",
          "SOFRA Grillhaus GmbH",
          "Ost-Grill",
          "Meydan Pizza Kebap Haus",
          "Wollhaus Kebap & Pizza",
          "Class Ocakbasi",
          "SAMSUN 3 - Food Lounge",
          "Ham Ham GO",
          "Allee Imbiss",
          "Karadeniz",
          "Kaufland Döner",
          "Allee Kebap",
          "Wirtshaus Alt - Böckingen",
          "Backstüble",
          "Deniz",
          "Roshni Pizza",
          "Gaststätte Kervansaray",
          "Seeräuber",
          "Neckarsulmer Pizza und Kebaphaus",
          "Urfa Kebap"
         ],
         "type": "scattermapbox",
         "uid": "4b2458a5-5118-47e0-bce7-fd402e12796e"
        }
       ],
       "layout": {
        "autosize": true,
        "font": {
         "family": "Calibri",
         "size": 20
        },
        "height": 800,
        "hovermode": "closest",
        "mapbox": {
         "accesstoken": "pk.eyJ1Ijoia29weXRqdWsiLCJhIjoiY2pyOWxkMTRxMDY1ZDRhcDhlanVicTd1bCJ9.aWBMGctpa5yYIL65XK2uQA",
         "bearing": 0,
         "center": {
          "lat": 49.14807445128204,
          "lon": 9.21551962820513
         },
         "pitch": 0,
         "zoom": 12
        },
        "title": {
         "text": "Kebab restaurants in Heilbronn"
        },
        "width": 800
       }
      },
      "text/html": [
       "<div id=\"1636fbe4-1f03-4ba7-95f5-d8beb51d4e39\" style=\"height: 800px; width: 800px;\" class=\"plotly-graph-div\"></div><script type=\"text/javascript\">require([\"plotly\"], function(Plotly) { window.PLOTLYENV=window.PLOTLYENV || {};window.PLOTLYENV.BASE_URL=\"https://plot.ly\";\n",
       "if (document.getElementById(\"1636fbe4-1f03-4ba7-95f5-d8beb51d4e39\")) {\n",
       "    Plotly.newPlot(\"1636fbe4-1f03-4ba7-95f5-d8beb51d4e39\", [{\"lat\": [49.144707000000004, 49.1421161, 49.138411700000006, 49.172795799999996, 49.116282, 49.120323000000006, 49.1449783, 49.1446598, 49.1421362, 49.11939049999999, 49.1416247, 49.1338062, 49.14254570000001, 49.140640000000005, 49.146103000000004, 49.168850799999994, 49.1424564, 49.1385503, 49.15387639999999, 49.150796899999996, 49.168775399999994, 49.1436489, 49.139952799999996, 49.1394461, 49.1848451, 49.15012, 49.139354600000004, 49.144667999999996, 49.1409484, 49.170634, 49.143559, 49.13039149999999, 49.139883600000005, 49.18943, 49.1390568, 49.18663, 49.1365444, 49.18943, 49.1525342], \"lon\": [9.2210705, 9.1916292, 9.2204872, 9.261749900000002, 9.1678246, 9.2075691, 9.2206826, 9.220752200000002, 9.2085547, 9.1907217, 9.2171228, 9.2183907, 9.2092853, 9.220410000000001, 9.1851926, 9.2013536, 9.2168159, 9.190913900000002, 9.2175588, 9.2824052, 9.202868, 9.229751400000001, 9.220401400000002, 9.219764, 9.2249351, 9.22138, 9.2202831, 9.2226823, 9.2089664, 9.2227784, 9.222372, 9.191092900000001, 9.2242367, 9.22347, 9.2260017, 9.22417, 9.1919011, 9.22347, 9.2142505], \"marker\": {\"size\": 10}, \"mode\": \"markers\", \"text\": [\"D\\u00f6ner Eck\", \"Mc D\\u00f6ner\", \"Otantik D\\u00f6ner- und Pizzahaus\", \"Mardin Imbiss - D\\u00f6ner, Pizza\", \"D\\u00f6ner 20\", \"Efendi Kebap\", \"Pizza Kebaphaus\", \"Divan 2\", \"Grill Station Pizza Kebaphaus\", \"Sontheimer Eck\", \"ALATURKA Grillrestaurant\", \"\\u00d6z Urfa Grillhaus\", \"Metropol Schnellrestaurant\", \"Stern Kebap, B. Akg\\u00fcl\", \"Pizza Kebab Haus\", \"Boz's Kebap Pizza Haus Neckargartach\", \"Istikbal Pizza Kebabhaus\", \"Pizza Kebap Haus B\\u00f6ckingen\", \"Ali Haydar Kebaphaus\", \"Karadeniz 55\", \"SOFRA Grillhaus GmbH\", \"Ost-Grill\", \"Meydan Pizza Kebap Haus\", \"Wollhaus Kebap & Pizza\", \"Class Ocakbasi\", \"SAMSUN 3 - Food Lounge\", \"Ham Ham GO\", \"Allee Imbiss\", \"Karadeniz\", \"Kaufland D\\u00f6ner\", \"Allee Kebap\", \"Wirtshaus Alt - B\\u00f6ckingen\", \"Backst\\u00fcble\", \"Deniz\", \"Roshni Pizza\", \"Gastst\\u00e4tte Kervansaray\", \"Seer\\u00e4uber\", \"Neckarsulmer Pizza und Kebaphaus\", \"Urfa Kebap\"], \"type\": \"scattermapbox\", \"uid\": \"4b2458a5-5118-47e0-bce7-fd402e12796e\"}], {\"autosize\": true, \"font\": {\"family\": \"Calibri\", \"size\": 20}, \"height\": 800, \"hovermode\": \"closest\", \"mapbox\": {\"accesstoken\": \"pk.eyJ1Ijoia29weXRqdWsiLCJhIjoiY2pyOWxkMTRxMDY1ZDRhcDhlanVicTd1bCJ9.aWBMGctpa5yYIL65XK2uQA\", \"bearing\": 0, \"center\": {\"lat\": 49.14807445128204, \"lon\": 9.21551962820513}, \"pitch\": 0, \"zoom\": 12}, \"title\": {\"text\": \"Kebab restaurants in Heilbronn\"}, \"width\": 800}, {\"showLink\": false, \"linkText\": \"Export to plot.ly\", \"plotlyServerURL\": \"https://plot.ly\"}); \n",
       "}\n",
       "});</script>"
      ],
      "text/vnd.plotly.v1+html": [
       "<div id=\"1636fbe4-1f03-4ba7-95f5-d8beb51d4e39\" style=\"height: 800px; width: 800px;\" class=\"plotly-graph-div\"></div><script type=\"text/javascript\">require([\"plotly\"], function(Plotly) { window.PLOTLYENV=window.PLOTLYENV || {};window.PLOTLYENV.BASE_URL=\"https://plot.ly\";\n",
       "if (document.getElementById(\"1636fbe4-1f03-4ba7-95f5-d8beb51d4e39\")) {\n",
       "    Plotly.newPlot(\"1636fbe4-1f03-4ba7-95f5-d8beb51d4e39\", [{\"lat\": [49.144707000000004, 49.1421161, 49.138411700000006, 49.172795799999996, 49.116282, 49.120323000000006, 49.1449783, 49.1446598, 49.1421362, 49.11939049999999, 49.1416247, 49.1338062, 49.14254570000001, 49.140640000000005, 49.146103000000004, 49.168850799999994, 49.1424564, 49.1385503, 49.15387639999999, 49.150796899999996, 49.168775399999994, 49.1436489, 49.139952799999996, 49.1394461, 49.1848451, 49.15012, 49.139354600000004, 49.144667999999996, 49.1409484, 49.170634, 49.143559, 49.13039149999999, 49.139883600000005, 49.18943, 49.1390568, 49.18663, 49.1365444, 49.18943, 49.1525342], \"lon\": [9.2210705, 9.1916292, 9.2204872, 9.261749900000002, 9.1678246, 9.2075691, 9.2206826, 9.220752200000002, 9.2085547, 9.1907217, 9.2171228, 9.2183907, 9.2092853, 9.220410000000001, 9.1851926, 9.2013536, 9.2168159, 9.190913900000002, 9.2175588, 9.2824052, 9.202868, 9.229751400000001, 9.220401400000002, 9.219764, 9.2249351, 9.22138, 9.2202831, 9.2226823, 9.2089664, 9.2227784, 9.222372, 9.191092900000001, 9.2242367, 9.22347, 9.2260017, 9.22417, 9.1919011, 9.22347, 9.2142505], \"marker\": {\"size\": 10}, \"mode\": \"markers\", \"text\": [\"D\\u00f6ner Eck\", \"Mc D\\u00f6ner\", \"Otantik D\\u00f6ner- und Pizzahaus\", \"Mardin Imbiss - D\\u00f6ner, Pizza\", \"D\\u00f6ner 20\", \"Efendi Kebap\", \"Pizza Kebaphaus\", \"Divan 2\", \"Grill Station Pizza Kebaphaus\", \"Sontheimer Eck\", \"ALATURKA Grillrestaurant\", \"\\u00d6z Urfa Grillhaus\", \"Metropol Schnellrestaurant\", \"Stern Kebap, B. Akg\\u00fcl\", \"Pizza Kebab Haus\", \"Boz's Kebap Pizza Haus Neckargartach\", \"Istikbal Pizza Kebabhaus\", \"Pizza Kebap Haus B\\u00f6ckingen\", \"Ali Haydar Kebaphaus\", \"Karadeniz 55\", \"SOFRA Grillhaus GmbH\", \"Ost-Grill\", \"Meydan Pizza Kebap Haus\", \"Wollhaus Kebap & Pizza\", \"Class Ocakbasi\", \"SAMSUN 3 - Food Lounge\", \"Ham Ham GO\", \"Allee Imbiss\", \"Karadeniz\", \"Kaufland D\\u00f6ner\", \"Allee Kebap\", \"Wirtshaus Alt - B\\u00f6ckingen\", \"Backst\\u00fcble\", \"Deniz\", \"Roshni Pizza\", \"Gastst\\u00e4tte Kervansaray\", \"Seer\\u00e4uber\", \"Neckarsulmer Pizza und Kebaphaus\", \"Urfa Kebap\"], \"type\": \"scattermapbox\", \"uid\": \"4b2458a5-5118-47e0-bce7-fd402e12796e\"}], {\"autosize\": true, \"font\": {\"family\": \"Calibri\", \"size\": 20}, \"height\": 800, \"hovermode\": \"closest\", \"mapbox\": {\"accesstoken\": \"pk.eyJ1Ijoia29weXRqdWsiLCJhIjoiY2pyOWxkMTRxMDY1ZDRhcDhlanVicTd1bCJ9.aWBMGctpa5yYIL65XK2uQA\", \"bearing\": 0, \"center\": {\"lat\": 49.14807445128204, \"lon\": 9.21551962820513}, \"pitch\": 0, \"zoom\": 12}, \"title\": {\"text\": \"Kebab restaurants in Heilbronn\"}, \"width\": 800}, {\"showLink\": false, \"linkText\": \"Export to plot.ly\", \"plotlyServerURL\": \"https://plot.ly\"}); \n",
       "}\n",
       "});</script>"
      ]
     },
     "metadata": {},
     "output_type": "display_data"
    }
   ],
   "source": [
    "plot_locations(lat_list, lon_list, name_list, city, food_type)"
   ]
  },
  {
   "cell_type": "code",
   "execution_count": 70,
   "metadata": {},
   "outputs": [
    {
     "data": {
      "application/vnd.plotly.v1+json": {
       "config": {
        "linkText": "Export to plot.ly",
        "plotlyServerURL": "https://plot.ly",
        "showLink": false
       },
       "data": [
        {
         "lat": [
          48.811927000000004,
          48.7796973,
          48.7777572,
          48.7626768,
          48.813288,
          48.801720200000005,
          48.77372880000001,
          48.80131779999999,
          48.7670723,
          48.77417,
          48.781620200000006,
          48.7839834,
          48.7981592,
          48.774787599999996,
          48.7639651,
          48.74141789999999,
          48.8267627,
          48.78069,
          48.7777,
          48.7746246,
          48.8143266,
          48.81715819999999,
          48.7776448,
          48.8061255,
          48.742573799999995,
          48.7938473,
          48.802217999999996,
          48.77572,
          48.76364359999999,
          48.7999969,
          48.7846238,
          48.78241999999999,
          48.778699700000004,
          48.773977,
          48.7744766,
          48.7638574,
          48.773907799999996,
          48.778290000000005,
          48.78930159999999,
          48.7891318,
          48.8092055,
          48.813733,
          48.803242100000006,
          48.7735375,
          48.7449,
          48.81371619999999,
          48.804897,
          48.7718894,
          48.77368,
          48.7449,
          48.785203,
          48.77074,
          48.7740707,
          48.78199420000001,
          48.78897389999999,
          48.7864654,
          48.77171329999999,
          48.800325,
          48.791188700000006,
          48.77428079999999
         ],
         "lon": [
          9.2275005,
          9.1779145,
          9.1643255,
          9.1586337,
          9.20849,
          9.217731800000001,
          9.173633500000001,
          9.2210758,
          9.1786772,
          9.17262,
          9.1807666,
          9.1812133,
          9.1899066,
          9.1525593,
          9.166238400000001,
          9.2179212,
          9.1207267,
          9.20437,
          9.1684,
          9.1858175,
          9.112554600000001,
          9.171681300000001,
          9.1735712,
          9.2312743,
          9.1672205,
          9.1923513,
          9.2171868,
          9.1608142,
          9.162754199999998,
          9.2205511,
          9.2076316,
          9.157704,
          9.1563287,
          9.1865612,
          9.2034423,
          9.1655151,
          9.177895300000001,
          9.20705,
          9.2019718,
          9.195662400000002,
          9.1597742,
          9.114443,
          9.215632199999998,
          9.167092,
          9.169419900000001,
          9.1146245,
          9.2136739,
          9.1569433,
          9.18136,
          9.169419900000001,
          9.2076223,
          9.18213,
          9.1749084,
          9.1304906,
          9.1954462,
          9.1910674,
          9.245633900000001,
          9.2205273,
          9.1835336,
          9.1737575
         ],
         "marker": {
          "size": 10
         },
         "mode": "markers",
         "text": [
          "König - Pizza und Döner",
          "Alice Premium Döner",
          "Azam Döner",
          "Babas Kebap",
          "Demet's Döner Kebap & Pizza Türkische Spezialitäten",
          "Döner Express",
          "Beykebab",
          "Abbo's Doner & Grill",
          "Alaturka",
          "World of Kebap",
          "Ützel Brützel",
          "Ützel Brützel",
          "Stern Döner und Pizza",
          "West Pizza und Kebap",
          "Marien Grill",
          "Sillenbuch's Pizza - Grill - Kebap",
          "Stern Kebap",
          "Deniz Pizza & Kebap",
          "Kebap Haus Berliner Platz",
          "MMC Kult",
          "Istanbul Kebap",
          "Köfteci Tuncay Stuttgart",
          "Anatolien Gourmet",
          "Göz Kebap",
          "Golden Kebap",
          "AntepHaus",
          "Istanbul-Kebap",
          "Tevhid Kebab",
          "Marmaris Pizza und Kebabhaus",
          "Side Kebap",
          "City Imbiss Kebap & Pizza",
          "Ixir Food House",
          "Stern Kebap",
          "NUR Kebab & Pizza",
          "Gablenberger Dönerhaus",
          "Yayla Kebap & Pizza",
          "Gül Kebap GmbH",
          "Euro KEBAP",
          "Alsandebad Grill, Pizza & Kebaphaus",
          "Dilgelay",
          "City Pizza & Kebap",
          "Baran Kebab",
          "Mehmet-Siddik Atkovaycin Imbiß",
          "Kebaphaus am Feuersee",
          "Zacken Imbiss",
          "Mevlana kebap",
          "Saray Kebab",
          "Schwab Döner und Pizza",
          "Akdeniz Pizza & Kebab",
          "Orient für Genießer",
          "Imbiss König Kebap",
          "Can Grill",
          "Ali Baba",
          "Marash Kebab",
          "Stern Kebap",
          "Star Kebap Pizza",
          "Aras Kebab GbR",
          "Köz Türkisches Restaurant",
          "Gustosa",
          "Birkan Kebap"
         ],
         "type": "scattermapbox",
         "uid": "d63f26b3-8761-47aa-904a-51943e28af5e"
        }
       ],
       "layout": {
        "autosize": true,
        "font": {
         "family": "Calibri",
         "size": 20
        },
        "height": 800,
        "hovermode": "closest",
        "mapbox": {
         "accesstoken": "pk.eyJ1Ijoia29weXRqdWsiLCJhIjoiY2pyOWxkMTRxMDY1ZDRhcDhlanVicTd1bCJ9.aWBMGctpa5yYIL65XK2uQA",
         "bearing": 0,
         "center": {
          "lat": 48.78379437,
          "lon": 9.181762401666667
         },
         "pitch": 0,
         "zoom": 12
        },
        "title": {
         "text": "Kebab restaurants in Stuttgart"
        },
        "width": 800
       }
      },
      "text/html": [
       "<div id=\"ee7a2c76-8bd8-41e9-9b8c-b8f92c8fc829\" style=\"height: 800px; width: 800px;\" class=\"plotly-graph-div\"></div><script type=\"text/javascript\">require([\"plotly\"], function(Plotly) { window.PLOTLYENV=window.PLOTLYENV || {};window.PLOTLYENV.BASE_URL=\"https://plot.ly\";\n",
       "if (document.getElementById(\"ee7a2c76-8bd8-41e9-9b8c-b8f92c8fc829\")) {\n",
       "    Plotly.newPlot(\"ee7a2c76-8bd8-41e9-9b8c-b8f92c8fc829\", [{\"lat\": [48.811927000000004, 48.7796973, 48.7777572, 48.7626768, 48.813288, 48.801720200000005, 48.77372880000001, 48.80131779999999, 48.7670723, 48.77417, 48.781620200000006, 48.7839834, 48.7981592, 48.774787599999996, 48.7639651, 48.74141789999999, 48.8267627, 48.78069, 48.7777, 48.7746246, 48.8143266, 48.81715819999999, 48.7776448, 48.8061255, 48.742573799999995, 48.7938473, 48.802217999999996, 48.77572, 48.76364359999999, 48.7999969, 48.7846238, 48.78241999999999, 48.778699700000004, 48.773977, 48.7744766, 48.7638574, 48.773907799999996, 48.778290000000005, 48.78930159999999, 48.7891318, 48.8092055, 48.813733, 48.803242100000006, 48.7735375, 48.7449, 48.81371619999999, 48.804897, 48.7718894, 48.77368, 48.7449, 48.785203, 48.77074, 48.7740707, 48.78199420000001, 48.78897389999999, 48.7864654, 48.77171329999999, 48.800325, 48.791188700000006, 48.77428079999999], \"lon\": [9.2275005, 9.1779145, 9.1643255, 9.1586337, 9.20849, 9.217731800000001, 9.173633500000001, 9.2210758, 9.1786772, 9.17262, 9.1807666, 9.1812133, 9.1899066, 9.1525593, 9.166238400000001, 9.2179212, 9.1207267, 9.20437, 9.1684, 9.1858175, 9.112554600000001, 9.171681300000001, 9.1735712, 9.2312743, 9.1672205, 9.1923513, 9.2171868, 9.1608142, 9.162754199999998, 9.2205511, 9.2076316, 9.157704, 9.1563287, 9.1865612, 9.2034423, 9.1655151, 9.177895300000001, 9.20705, 9.2019718, 9.195662400000002, 9.1597742, 9.114443, 9.215632199999998, 9.167092, 9.169419900000001, 9.1146245, 9.2136739, 9.1569433, 9.18136, 9.169419900000001, 9.2076223, 9.18213, 9.1749084, 9.1304906, 9.1954462, 9.1910674, 9.245633900000001, 9.2205273, 9.1835336, 9.1737575], \"marker\": {\"size\": 10}, \"mode\": \"markers\", \"text\": [\"K\\u00f6nig - Pizza und D\\u00f6ner\", \"Alice Premium D\\u00f6ner\", \"Azam D\\u00f6ner\", \"Babas Kebap\", \"Demet's D\\u00f6ner Kebap & Pizza T\\u00fcrkische Spezialit\\u00e4ten\", \"D\\u00f6ner Express\", \"Beykebab\", \"Abbo's Doner & Grill\", \"Alaturka\", \"World of Kebap\", \"\\u00dctzel Br\\u00fctzel\", \"\\u00dctzel Br\\u00fctzel\", \"Stern D\\u00f6ner und Pizza\", \"West Pizza und Kebap\", \"Marien Grill\", \"Sillenbuch's Pizza - Grill - Kebap\", \"Stern Kebap\", \"Deniz Pizza & Kebap\", \"Kebap Haus Berliner Platz\", \"MMC Kult\", \"Istanbul Kebap\", \"K\\u00f6fteci Tuncay Stuttgart\", \"Anatolien Gourmet\", \"G\\u00f6z Kebap\", \"Golden Kebap\", \"AntepHaus\", \"Istanbul-Kebap\", \"Tevhid Kebab\", \"Marmaris Pizza und Kebabhaus\", \"Side Kebap\", \"City Imbiss Kebap & Pizza\", \"Ixir Food House\", \"Stern Kebap\", \"NUR Kebab & Pizza\", \"Gablenberger D\\u00f6nerhaus\", \"Yayla Kebap & Pizza\", \"G\\u00fcl Kebap GmbH\", \"Euro KEBAP\", \"Alsandebad Grill, Pizza & Kebaphaus\", \"Dilgelay\", \"City Pizza & Kebap\", \"Baran Kebab\", \"Mehmet-Siddik Atkovaycin Imbi\\u00df\", \"Kebaphaus am Feuersee\", \"Zacken Imbiss\", \"Mevlana kebap\", \"Saray Kebab\", \"Schwab D\\u00f6ner und Pizza\", \"Akdeniz Pizza & Kebab\", \"Orient f\\u00fcr Genie\\u00dfer\", \"Imbiss K\\u00f6nig Kebap\", \"Can Grill\", \"Ali Baba\", \"Marash Kebab\", \"Stern Kebap\", \"Star Kebap Pizza\", \"Aras Kebab GbR\", \"K\\u00f6z T\\u00fcrkisches Restaurant\", \"Gustosa\", \"Birkan Kebap\"], \"type\": \"scattermapbox\", \"uid\": \"d63f26b3-8761-47aa-904a-51943e28af5e\"}], {\"autosize\": true, \"font\": {\"family\": \"Calibri\", \"size\": 20}, \"height\": 800, \"hovermode\": \"closest\", \"mapbox\": {\"accesstoken\": \"pk.eyJ1Ijoia29weXRqdWsiLCJhIjoiY2pyOWxkMTRxMDY1ZDRhcDhlanVicTd1bCJ9.aWBMGctpa5yYIL65XK2uQA\", \"bearing\": 0, \"center\": {\"lat\": 48.78379437, \"lon\": 9.181762401666667}, \"pitch\": 0, \"zoom\": 12}, \"title\": {\"text\": \"Kebab restaurants in Stuttgart\"}, \"width\": 800}, {\"showLink\": false, \"linkText\": \"Export to plot.ly\", \"plotlyServerURL\": \"https://plot.ly\"}); \n",
       "}\n",
       "});</script>"
      ],
      "text/vnd.plotly.v1+html": [
       "<div id=\"ee7a2c76-8bd8-41e9-9b8c-b8f92c8fc829\" style=\"height: 800px; width: 800px;\" class=\"plotly-graph-div\"></div><script type=\"text/javascript\">require([\"plotly\"], function(Plotly) { window.PLOTLYENV=window.PLOTLYENV || {};window.PLOTLYENV.BASE_URL=\"https://plot.ly\";\n",
       "if (document.getElementById(\"ee7a2c76-8bd8-41e9-9b8c-b8f92c8fc829\")) {\n",
       "    Plotly.newPlot(\"ee7a2c76-8bd8-41e9-9b8c-b8f92c8fc829\", [{\"lat\": [48.811927000000004, 48.7796973, 48.7777572, 48.7626768, 48.813288, 48.801720200000005, 48.77372880000001, 48.80131779999999, 48.7670723, 48.77417, 48.781620200000006, 48.7839834, 48.7981592, 48.774787599999996, 48.7639651, 48.74141789999999, 48.8267627, 48.78069, 48.7777, 48.7746246, 48.8143266, 48.81715819999999, 48.7776448, 48.8061255, 48.742573799999995, 48.7938473, 48.802217999999996, 48.77572, 48.76364359999999, 48.7999969, 48.7846238, 48.78241999999999, 48.778699700000004, 48.773977, 48.7744766, 48.7638574, 48.773907799999996, 48.778290000000005, 48.78930159999999, 48.7891318, 48.8092055, 48.813733, 48.803242100000006, 48.7735375, 48.7449, 48.81371619999999, 48.804897, 48.7718894, 48.77368, 48.7449, 48.785203, 48.77074, 48.7740707, 48.78199420000001, 48.78897389999999, 48.7864654, 48.77171329999999, 48.800325, 48.791188700000006, 48.77428079999999], \"lon\": [9.2275005, 9.1779145, 9.1643255, 9.1586337, 9.20849, 9.217731800000001, 9.173633500000001, 9.2210758, 9.1786772, 9.17262, 9.1807666, 9.1812133, 9.1899066, 9.1525593, 9.166238400000001, 9.2179212, 9.1207267, 9.20437, 9.1684, 9.1858175, 9.112554600000001, 9.171681300000001, 9.1735712, 9.2312743, 9.1672205, 9.1923513, 9.2171868, 9.1608142, 9.162754199999998, 9.2205511, 9.2076316, 9.157704, 9.1563287, 9.1865612, 9.2034423, 9.1655151, 9.177895300000001, 9.20705, 9.2019718, 9.195662400000002, 9.1597742, 9.114443, 9.215632199999998, 9.167092, 9.169419900000001, 9.1146245, 9.2136739, 9.1569433, 9.18136, 9.169419900000001, 9.2076223, 9.18213, 9.1749084, 9.1304906, 9.1954462, 9.1910674, 9.245633900000001, 9.2205273, 9.1835336, 9.1737575], \"marker\": {\"size\": 10}, \"mode\": \"markers\", \"text\": [\"K\\u00f6nig - Pizza und D\\u00f6ner\", \"Alice Premium D\\u00f6ner\", \"Azam D\\u00f6ner\", \"Babas Kebap\", \"Demet's D\\u00f6ner Kebap & Pizza T\\u00fcrkische Spezialit\\u00e4ten\", \"D\\u00f6ner Express\", \"Beykebab\", \"Abbo's Doner & Grill\", \"Alaturka\", \"World of Kebap\", \"\\u00dctzel Br\\u00fctzel\", \"\\u00dctzel Br\\u00fctzel\", \"Stern D\\u00f6ner und Pizza\", \"West Pizza und Kebap\", \"Marien Grill\", \"Sillenbuch's Pizza - Grill - Kebap\", \"Stern Kebap\", \"Deniz Pizza & Kebap\", \"Kebap Haus Berliner Platz\", \"MMC Kult\", \"Istanbul Kebap\", \"K\\u00f6fteci Tuncay Stuttgart\", \"Anatolien Gourmet\", \"G\\u00f6z Kebap\", \"Golden Kebap\", \"AntepHaus\", \"Istanbul-Kebap\", \"Tevhid Kebab\", \"Marmaris Pizza und Kebabhaus\", \"Side Kebap\", \"City Imbiss Kebap & Pizza\", \"Ixir Food House\", \"Stern Kebap\", \"NUR Kebab & Pizza\", \"Gablenberger D\\u00f6nerhaus\", \"Yayla Kebap & Pizza\", \"G\\u00fcl Kebap GmbH\", \"Euro KEBAP\", \"Alsandebad Grill, Pizza & Kebaphaus\", \"Dilgelay\", \"City Pizza & Kebap\", \"Baran Kebab\", \"Mehmet-Siddik Atkovaycin Imbi\\u00df\", \"Kebaphaus am Feuersee\", \"Zacken Imbiss\", \"Mevlana kebap\", \"Saray Kebab\", \"Schwab D\\u00f6ner und Pizza\", \"Akdeniz Pizza & Kebab\", \"Orient f\\u00fcr Genie\\u00dfer\", \"Imbiss K\\u00f6nig Kebap\", \"Can Grill\", \"Ali Baba\", \"Marash Kebab\", \"Stern Kebap\", \"Star Kebap Pizza\", \"Aras Kebab GbR\", \"K\\u00f6z T\\u00fcrkisches Restaurant\", \"Gustosa\", \"Birkan Kebap\"], \"type\": \"scattermapbox\", \"uid\": \"d63f26b3-8761-47aa-904a-51943e28af5e\"}], {\"autosize\": true, \"font\": {\"family\": \"Calibri\", \"size\": 20}, \"height\": 800, \"hovermode\": \"closest\", \"mapbox\": {\"accesstoken\": \"pk.eyJ1Ijoia29weXRqdWsiLCJhIjoiY2pyOWxkMTRxMDY1ZDRhcDhlanVicTd1bCJ9.aWBMGctpa5yYIL65XK2uQA\", \"bearing\": 0, \"center\": {\"lat\": 48.78379437, \"lon\": 9.181762401666667}, \"pitch\": 0, \"zoom\": 12}, \"title\": {\"text\": \"Kebab restaurants in Stuttgart\"}, \"width\": 800}, {\"showLink\": false, \"linkText\": \"Export to plot.ly\", \"plotlyServerURL\": \"https://plot.ly\"}); \n",
       "}\n",
       "});</script>"
      ]
     },
     "metadata": {},
     "output_type": "display_data"
    }
   ],
   "source": [
    "doener_path = \"data/döner_stuttgart.csv\"\n",
    "df = pd.read_csv(doener_path)\n",
    "lat_list = df[\"geometry.location.lat\"]\n",
    "lon_list = df[\"geometry.location.lng\"]\n",
    "name_list = df[\"name\"]\n",
    "city = \"Stuttgart\"\n",
    "food_type=\"Kebab\"\n",
    "plot_locations(lat_list, lon_list, name_list, city, food_type)"
   ]
  },
  {
   "cell_type": "code",
   "execution_count": 71,
   "metadata": {},
   "outputs": [
    {
     "data": {
      "application/vnd.plotly.v1+json": {
       "config": {
        "linkText": "Export to plot.ly",
        "plotlyServerURL": "https://plot.ly",
        "showLink": false
       },
       "data": [
        {
         "lat": [
          49.175993,
          49.129123,
          49.139226,
          49.184309999999996,
          49.155169,
          49.1544039,
          49.1408093,
          49.14910159999999,
          49.1422164,
          49.1826698,
          49.14105670000001,
          49.146604700000005
         ],
         "lon": [
          9.2013007,
          9.188463,
          9.2199146,
          9.23405,
          9.224455099999998,
          9.216887400000001,
          9.2301082,
          9.199380900000001,
          9.2204594,
          9.2204538,
          9.2305581,
          9.221496
         ],
         "marker": {
          "size": 10
         },
         "mode": "markers",
         "text": [
          "Merkur Spielothek",
          "Casino Heilbronn / Spielhalle Böckingen - Play Lord",
          "Zeus Games GmbH & Co. KG",
          "Casino Eightball Neckarsulm",
          "Merkur Spielothek",
          "Merkur Spielothek",
          "Merkur Spielothek",
          "Merkur Spielothek",
          "Vasilios Panagiotidis Unternehmensgruppe",
          "Löwen Play Casino",
          "Magic Casino",
          "Zeus Casino"
         ],
         "type": "scattermapbox",
         "uid": "6c7983c0-db83-4ce3-9baa-c056be2ed1ab"
        }
       ],
       "layout": {
        "autosize": true,
        "font": {
         "family": "Calibri",
         "size": 20
        },
        "height": 800,
        "hovermode": "closest",
        "mapbox": {
         "accesstoken": "pk.eyJ1Ijoia29weXRqdWsiLCJhIjoiY2pyOWxkMTRxMDY1ZDRhcDhlanVicTd1bCJ9.aWBMGctpa5yYIL65XK2uQA",
         "bearing": 0,
         "center": {
          "lat": 49.15339028333333,
          "lon": 9.217293933333334
         },
         "pitch": 0,
         "zoom": 12
        },
        "title": {
         "text": "Casino restaurants in Casino"
        },
        "width": 800
       }
      },
      "text/html": [
       "<div id=\"00bff790-eb6e-4943-8eaa-5887fff42f2d\" style=\"height: 800px; width: 800px;\" class=\"plotly-graph-div\"></div><script type=\"text/javascript\">require([\"plotly\"], function(Plotly) { window.PLOTLYENV=window.PLOTLYENV || {};window.PLOTLYENV.BASE_URL=\"https://plot.ly\";\n",
       "if (document.getElementById(\"00bff790-eb6e-4943-8eaa-5887fff42f2d\")) {\n",
       "    Plotly.newPlot(\"00bff790-eb6e-4943-8eaa-5887fff42f2d\", [{\"lat\": [49.175993, 49.129123, 49.139226, 49.184309999999996, 49.155169, 49.1544039, 49.1408093, 49.14910159999999, 49.1422164, 49.1826698, 49.14105670000001, 49.146604700000005], \"lon\": [9.2013007, 9.188463, 9.2199146, 9.23405, 9.224455099999998, 9.216887400000001, 9.2301082, 9.199380900000001, 9.2204594, 9.2204538, 9.2305581, 9.221496], \"marker\": {\"size\": 10}, \"mode\": \"markers\", \"text\": [\"Merkur Spielothek\", \"Casino Heilbronn / Spielhalle B\\u00f6ckingen - Play Lord\", \"Zeus Games GmbH & Co. KG\", \"Casino Eightball Neckarsulm\", \"Merkur Spielothek\", \"Merkur Spielothek\", \"Merkur Spielothek\", \"Merkur Spielothek\", \"Vasilios Panagiotidis Unternehmensgruppe\", \"L\\u00f6wen Play Casino\", \"Magic Casino\", \"Zeus Casino\"], \"type\": \"scattermapbox\", \"uid\": \"6c7983c0-db83-4ce3-9baa-c056be2ed1ab\"}], {\"autosize\": true, \"font\": {\"family\": \"Calibri\", \"size\": 20}, \"height\": 800, \"hovermode\": \"closest\", \"mapbox\": {\"accesstoken\": \"pk.eyJ1Ijoia29weXRqdWsiLCJhIjoiY2pyOWxkMTRxMDY1ZDRhcDhlanVicTd1bCJ9.aWBMGctpa5yYIL65XK2uQA\", \"bearing\": 0, \"center\": {\"lat\": 49.15339028333333, \"lon\": 9.217293933333334}, \"pitch\": 0, \"zoom\": 12}, \"title\": {\"text\": \"Casino restaurants in Casino\"}, \"width\": 800}, {\"showLink\": false, \"linkText\": \"Export to plot.ly\", \"plotlyServerURL\": \"https://plot.ly\"}); \n",
       "}\n",
       "});</script>"
      ],
      "text/vnd.plotly.v1+html": [
       "<div id=\"00bff790-eb6e-4943-8eaa-5887fff42f2d\" style=\"height: 800px; width: 800px;\" class=\"plotly-graph-div\"></div><script type=\"text/javascript\">require([\"plotly\"], function(Plotly) { window.PLOTLYENV=window.PLOTLYENV || {};window.PLOTLYENV.BASE_URL=\"https://plot.ly\";\n",
       "if (document.getElementById(\"00bff790-eb6e-4943-8eaa-5887fff42f2d\")) {\n",
       "    Plotly.newPlot(\"00bff790-eb6e-4943-8eaa-5887fff42f2d\", [{\"lat\": [49.175993, 49.129123, 49.139226, 49.184309999999996, 49.155169, 49.1544039, 49.1408093, 49.14910159999999, 49.1422164, 49.1826698, 49.14105670000001, 49.146604700000005], \"lon\": [9.2013007, 9.188463, 9.2199146, 9.23405, 9.224455099999998, 9.216887400000001, 9.2301082, 9.199380900000001, 9.2204594, 9.2204538, 9.2305581, 9.221496], \"marker\": {\"size\": 10}, \"mode\": \"markers\", \"text\": [\"Merkur Spielothek\", \"Casino Heilbronn / Spielhalle B\\u00f6ckingen - Play Lord\", \"Zeus Games GmbH & Co. KG\", \"Casino Eightball Neckarsulm\", \"Merkur Spielothek\", \"Merkur Spielothek\", \"Merkur Spielothek\", \"Merkur Spielothek\", \"Vasilios Panagiotidis Unternehmensgruppe\", \"L\\u00f6wen Play Casino\", \"Magic Casino\", \"Zeus Casino\"], \"type\": \"scattermapbox\", \"uid\": \"6c7983c0-db83-4ce3-9baa-c056be2ed1ab\"}], {\"autosize\": true, \"font\": {\"family\": \"Calibri\", \"size\": 20}, \"height\": 800, \"hovermode\": \"closest\", \"mapbox\": {\"accesstoken\": \"pk.eyJ1Ijoia29weXRqdWsiLCJhIjoiY2pyOWxkMTRxMDY1ZDRhcDhlanVicTd1bCJ9.aWBMGctpa5yYIL65XK2uQA\", \"bearing\": 0, \"center\": {\"lat\": 49.15339028333333, \"lon\": 9.217293933333334}, \"pitch\": 0, \"zoom\": 12}, \"title\": {\"text\": \"Casino restaurants in Casino\"}, \"width\": 800}, {\"showLink\": false, \"linkText\": \"Export to plot.ly\", \"plotlyServerURL\": \"https://plot.ly\"}); \n",
       "}\n",
       "});</script>"
      ]
     },
     "metadata": {},
     "output_type": "display_data"
    }
   ],
   "source": [
    "doener_path = \"data/casino_heilbronn.csv\"\n",
    "df = pd.read_csv(doener_path)\n",
    "lat_list = df[\"geometry.location.lat\"]\n",
    "lon_list = df[\"geometry.location.lng\"]\n",
    "name_list = df[\"name\"]\n",
    "city = \"Casino\"\n",
    "food_type=\"Casino\"\n",
    "plot_locations(lat_list, lon_list, name_list, city, food_type)"
   ]
  },
  {
   "cell_type": "code",
   "execution_count": 74,
   "metadata": {},
   "outputs": [
    {
     "data": {
      "application/vnd.plotly.v1+json": {
       "config": {
        "linkText": "Export to plot.ly",
        "plotlyServerURL": "https://plot.ly",
        "showLink": false
       },
       "data": [
        {
         "lat": [
          48.8029203,
          48.7816451,
          48.782179299999996,
          48.7732781,
          48.774012299999995,
          48.7736033,
          48.80845249999999,
          48.7832278,
          48.7731392
         ],
         "lon": [
          9.217787800000002,
          9.1788193,
          9.207640800000002,
          9.1771579,
          9.1732563,
          9.186267800000001,
          9.1571929,
          9.179772300000002,
          9.1786605
         ],
         "marker": {
          "size": 10
         },
         "mode": "markers",
         "text": [
          "Champion's Casino",
          "Merkur Spielothek",
          "Merkur",
          "Merkur",
          "Merkur",
          "Merkur",
          "Merkur",
          "Magic Casino",
          "Casino Station 777"
         ],
         "type": "scattermapbox",
         "uid": "537ec238-b4a4-4c6d-ae53-896a0689a3ef"
        }
       ],
       "layout": {
        "autosize": true,
        "font": {
         "family": "Calibri",
         "size": 20
        },
        "height": 800,
        "hovermode": "closest",
        "mapbox": {
         "accesstoken": "pk.eyJ1Ijoia29weXRqdWsiLCJhIjoiY2pyOWxkMTRxMDY1ZDRhcDhlanVicTd1bCJ9.aWBMGctpa5yYIL65XK2uQA",
         "bearing": 0,
         "center": {
          "lat": 48.78360643333333,
          "lon": 9.184061733333335
         },
         "pitch": 0,
         "zoom": 12
        },
        "title": {
         "text": "Casino restaurants in Stuttgart"
        },
        "width": 800
       }
      },
      "text/html": [
       "<div id=\"95e10993-c399-490c-ab37-51786c97d8d4\" style=\"height: 800px; width: 800px;\" class=\"plotly-graph-div\"></div><script type=\"text/javascript\">require([\"plotly\"], function(Plotly) { window.PLOTLYENV=window.PLOTLYENV || {};window.PLOTLYENV.BASE_URL=\"https://plot.ly\";\n",
       "if (document.getElementById(\"95e10993-c399-490c-ab37-51786c97d8d4\")) {\n",
       "    Plotly.newPlot(\"95e10993-c399-490c-ab37-51786c97d8d4\", [{\"lat\": [48.8029203, 48.7816451, 48.782179299999996, 48.7732781, 48.774012299999995, 48.7736033, 48.80845249999999, 48.7832278, 48.7731392], \"lon\": [9.217787800000002, 9.1788193, 9.207640800000002, 9.1771579, 9.1732563, 9.186267800000001, 9.1571929, 9.179772300000002, 9.1786605], \"marker\": {\"size\": 10}, \"mode\": \"markers\", \"text\": [\"Champion's Casino\", \"Merkur Spielothek\", \"Merkur\", \"Merkur\", \"Merkur\", \"Merkur\", \"Merkur\", \"Magic Casino\", \"Casino Station 777\"], \"type\": \"scattermapbox\", \"uid\": \"537ec238-b4a4-4c6d-ae53-896a0689a3ef\"}], {\"autosize\": true, \"font\": {\"family\": \"Calibri\", \"size\": 20}, \"height\": 800, \"hovermode\": \"closest\", \"mapbox\": {\"accesstoken\": \"pk.eyJ1Ijoia29weXRqdWsiLCJhIjoiY2pyOWxkMTRxMDY1ZDRhcDhlanVicTd1bCJ9.aWBMGctpa5yYIL65XK2uQA\", \"bearing\": 0, \"center\": {\"lat\": 48.78360643333333, \"lon\": 9.184061733333335}, \"pitch\": 0, \"zoom\": 12}, \"title\": {\"text\": \"Casino restaurants in Stuttgart\"}, \"width\": 800}, {\"showLink\": false, \"linkText\": \"Export to plot.ly\", \"plotlyServerURL\": \"https://plot.ly\"}); \n",
       "}\n",
       "});</script>"
      ],
      "text/vnd.plotly.v1+html": [
       "<div id=\"95e10993-c399-490c-ab37-51786c97d8d4\" style=\"height: 800px; width: 800px;\" class=\"plotly-graph-div\"></div><script type=\"text/javascript\">require([\"plotly\"], function(Plotly) { window.PLOTLYENV=window.PLOTLYENV || {};window.PLOTLYENV.BASE_URL=\"https://plot.ly\";\n",
       "if (document.getElementById(\"95e10993-c399-490c-ab37-51786c97d8d4\")) {\n",
       "    Plotly.newPlot(\"95e10993-c399-490c-ab37-51786c97d8d4\", [{\"lat\": [48.8029203, 48.7816451, 48.782179299999996, 48.7732781, 48.774012299999995, 48.7736033, 48.80845249999999, 48.7832278, 48.7731392], \"lon\": [9.217787800000002, 9.1788193, 9.207640800000002, 9.1771579, 9.1732563, 9.186267800000001, 9.1571929, 9.179772300000002, 9.1786605], \"marker\": {\"size\": 10}, \"mode\": \"markers\", \"text\": [\"Champion's Casino\", \"Merkur Spielothek\", \"Merkur\", \"Merkur\", \"Merkur\", \"Merkur\", \"Merkur\", \"Magic Casino\", \"Casino Station 777\"], \"type\": \"scattermapbox\", \"uid\": \"537ec238-b4a4-4c6d-ae53-896a0689a3ef\"}], {\"autosize\": true, \"font\": {\"family\": \"Calibri\", \"size\": 20}, \"height\": 800, \"hovermode\": \"closest\", \"mapbox\": {\"accesstoken\": \"pk.eyJ1Ijoia29weXRqdWsiLCJhIjoiY2pyOWxkMTRxMDY1ZDRhcDhlanVicTd1bCJ9.aWBMGctpa5yYIL65XK2uQA\", \"bearing\": 0, \"center\": {\"lat\": 48.78360643333333, \"lon\": 9.184061733333335}, \"pitch\": 0, \"zoom\": 12}, \"title\": {\"text\": \"Casino restaurants in Stuttgart\"}, \"width\": 800}, {\"showLink\": false, \"linkText\": \"Export to plot.ly\", \"plotlyServerURL\": \"https://plot.ly\"}); \n",
       "}\n",
       "});</script>"
      ]
     },
     "metadata": {},
     "output_type": "display_data"
    }
   ],
   "source": [
    "doener_path = \"data/casino_stuttgatt.csv\"\n",
    "df = pd.read_csv(doener_path)\n",
    "lat_list = df[\"geometry.location.lat\"]\n",
    "lon_list = df[\"geometry.location.lng\"]\n",
    "name_list = df[\"name\"]\n",
    "city = \"Stuttgart\"\n",
    "food_type=\"Casino\"\n",
    "plot_locations(lat_list, lon_list, name_list, city, food_type)"
   ]
  },
  {
   "cell_type": "code",
   "execution_count": null,
   "metadata": {},
   "outputs": [],
   "source": []
  }
 ],
 "metadata": {
  "kernelspec": {
   "display_name": "Python [default]",
   "language": "python",
   "name": "python3"
  },
  "language_info": {
   "codemirror_mode": {
    "name": "ipython",
    "version": 3
   },
   "file_extension": ".py",
   "mimetype": "text/x-python",
   "name": "python",
   "nbconvert_exporter": "python",
   "pygments_lexer": "ipython3",
   "version": "3.6.7"
  }
 },
 "nbformat": 4,
 "nbformat_minor": 2
}
