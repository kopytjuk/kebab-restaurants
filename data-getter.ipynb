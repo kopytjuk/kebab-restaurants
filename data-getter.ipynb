{
 "cells": [
  {
   "cell_type": "markdown",
   "metadata": {},
   "source": [
    "# Data\n",
    "\n",
    "This notebook downloads data for various cities to the `data\\` folder."
   ]
  },
  {
   "cell_type": "code",
   "execution_count": 53,
   "metadata": {},
   "outputs": [],
   "source": [
    "import os\n",
    "import googlemaps\n",
    "import json\n",
    "import time"
   ]
  },
  {
   "cell_type": "code",
   "execution_count": 83,
   "metadata": {},
   "outputs": [],
   "source": [
    "import pandas as pd\n",
    "import flatdict"
   ]
  },
  {
   "cell_type": "code",
   "execution_count": 10,
   "metadata": {},
   "outputs": [
    {
     "data": {
      "text/plain": [
       "True"
      ]
     },
     "execution_count": 10,
     "metadata": {},
     "output_type": "execute_result"
    }
   ],
   "source": [
    "from dotenv import load_dotenv\n",
    "load_dotenv()"
   ]
  },
  {
   "cell_type": "code",
   "execution_count": 44,
   "metadata": {},
   "outputs": [],
   "source": [
    "gmaps = googlemaps.Client(key=os.environ[\"GOOGLE_GEOCODING_API_KEY\"])"
   ]
  },
  {
   "cell_type": "code",
   "execution_count": 119,
   "metadata": {},
   "outputs": [],
   "source": [
    "def data_list_to_df(data):\n",
    "    \n",
    "    result_list = list()\n",
    "    for d in data:\n",
    "        result_list += [flatdict.FlatDict(r, delimiter=\".\") for r in d[\"results\"]]\n",
    "        \n",
    "    df = pd.DataFrame(result_list)\n",
    "    return df"
   ]
  },
  {
   "cell_type": "code",
   "execution_count": 120,
   "metadata": {},
   "outputs": [],
   "source": [
    "def get_data(keyword: str, location=(49.1426929, 9.210879), radius=5000):\n",
    "    \"\"\"Given a keyword and a (lat, lon) location get a dataframe of places within the radius of Xmeters.\n",
    "    \"\"\"\n",
    "    res_list = list()\n",
    "    first_res = gmaps.places_nearby(keyword=keyword, location=location, radius=radius)\n",
    "    res_list.append(first_res)\n",
    "    \n",
    "    next_page_token = res_list[0].get(\"next_page_token\", None)\n",
    "    \n",
    "    while next_page_token:\n",
    "        time.sleep(3)\n",
    "        next_result = gmaps.places_nearby(page_token=next_page_token)\n",
    "        next_page_token =  next_result.get(\"next_page_token\", None)\n",
    "        res_list.append(next_result)\n",
    "        \n",
    "    df = data_list_to_df(res_list)\n",
    "    return df"
   ]
  },
  {
   "cell_type": "code",
   "execution_count": 116,
   "metadata": {},
   "outputs": [],
   "source": [
    "cities = {\"Heilbronn\": (49.1426929, 9.210879),\n",
    "          \"Stuttgart\": (48.78232, 9.17702),\n",
    "          \"Frankfurt\": (50.107345, 8.664046),\n",
    "          \"Marzahn\": (52.544260, 13.564032),\n",
    "         \"Berlin-Neukölln\": (52.481389, 13.435278),\n",
    "         \"Köln-Kalk\": (50.935833, 7.018611),\n",
    "         \"Hamburg-Altona\": (53.55, 9.933333),\n",
    "         \"Frankfurt-Hbf\": (50.107443, 8.664446)}"
   ]
  },
  {
   "cell_type": "code",
   "execution_count": 117,
   "metadata": {},
   "outputs": [],
   "source": [
    "for food in [\"Döner\", \"Pizza\"]:\n",
    "    for k, v in cities.items():\n",
    "        res_path = os.path.join(\"data\", f\"{food.lower()}_{k.lower()}.csv\")\n",
    "        if os.path.exists(res_path):\n",
    "            continue\n",
    "        res_df = get_data(food, v)\n",
    "        res_df.to_csv(res_path)"
   ]
  },
  {
   "cell_type": "code",
   "execution_count": null,
   "metadata": {},
   "outputs": [],
   "source": []
  }
 ],
 "metadata": {
  "kernelspec": {
   "display_name": "Python [default]",
   "language": "python",
   "name": "python3"
  },
  "language_info": {
   "codemirror_mode": {
    "name": "ipython",
    "version": 3
   },
   "file_extension": ".py",
   "mimetype": "text/x-python",
   "name": "python",
   "nbconvert_exporter": "python",
   "pygments_lexer": "ipython3",
   "version": "3.6.7"
  }
 },
 "nbformat": 4,
 "nbformat_minor": 2
}
